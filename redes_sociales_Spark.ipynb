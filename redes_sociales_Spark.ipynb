{
 "cells": [
  {
   "cell_type": "code",
   "execution_count": null,
   "metadata": {},
   "outputs": [],
   "source": []
  },
  {
   "cell_type": "code",
   "execution_count": 32,
   "metadata": {},
   "outputs": [
    {
     "data": {
      "text/plain": [
       "pyspark.context.SparkContext"
      ]
     },
     "execution_count": 32,
     "metadata": {},
     "output_type": "execute_result"
    }
   ],
   "source": [
    "import pyspark\n",
    "import math\n",
    "from itertools import product\n",
    "\n",
    "try: \n",
    "    type(sc)\n",
    "except NameError:\n",
    "    sc = pyspark.SparkContext('local[*]')    \n",
    "    \n",
    "type(sc)"
   ]
  },
  {
   "cell_type": "code",
   "execution_count": 1,
   "metadata": {},
   "outputs": [],
   "source": [
    "rs = [('A','B'),('A','C'),('B','C'),('B','A'),('C','B')]"
   ]
  },
  {
   "cell_type": "code",
   "execution_count": 3,
   "metadata": {},
   "outputs": [],
   "source": [
    "rsRDD = sc.parallelize(rs)"
   ]
  },
  {
   "cell_type": "code",
   "execution_count": 8,
   "metadata": {},
   "outputs": [
    {
     "data": {
      "text/plain": [
       "[('A', 'B'), ('A', 'C'), ('B', 'C'), ('A', 'B'), ('B', 'C')]"
      ]
     },
     "execution_count": 8,
     "metadata": {},
     "output_type": "execute_result"
    }
   ],
   "source": [
    "rsRDD.map(lambda x:tuple(sorted(x))).collect()"
   ]
  },
  {
   "cell_type": "code",
   "execution_count": 9,
   "metadata": {},
   "outputs": [
    {
     "data": {
      "text/plain": [
       "[(('A', 'B'), 1),\n",
       " (('A', 'C'), 1),\n",
       " (('B', 'C'), 1),\n",
       " (('A', 'B'), 1),\n",
       " (('B', 'C'), 1)]"
      ]
     },
     "execution_count": 9,
     "metadata": {},
     "output_type": "execute_result"
    }
   ],
   "source": [
    "rsRDD.map(lambda x:tuple(sorted(x)))\\\n",
    "     .map(lambda x: (x, 1)).collect()"
   ]
  },
  {
   "cell_type": "code",
   "execution_count": 10,
   "metadata": {},
   "outputs": [
    {
     "data": {
      "text/plain": [
       "[(('A', 'B'), 2), (('A', 'C'), 1), (('B', 'C'), 2)]"
      ]
     },
     "execution_count": 10,
     "metadata": {},
     "output_type": "execute_result"
    }
   ],
   "source": [
    "rsRDD.map(lambda x:tuple(sorted(x)))\\\n",
    "     .map(lambda x: (x, 1))\\\n",
    "     .reduceByKey(lambda x,y: x + y).collect()"
   ]
  },
  {
   "cell_type": "code",
   "execution_count": 11,
   "metadata": {},
   "outputs": [
    {
     "data": {
      "text/plain": [
       "[(('A', 'C'), 1)]"
      ]
     },
     "execution_count": 11,
     "metadata": {},
     "output_type": "execute_result"
    }
   ],
   "source": [
    "rsRDD.map(lambda x:tuple(sorted(x)))\\\n",
    "     .map(lambda x: (x, 1))\\\n",
    "     .reduceByKey(lambda x,y: x + y)\\\n",
    "     .filter(lambda x: x[1] == 1).collect()"
   ]
  },
  {
   "cell_type": "code",
   "execution_count": null,
   "metadata": {},
   "outputs": [],
   "source": []
  },
  {
   "cell_type": "code",
   "execution_count": null,
   "metadata": {},
   "outputs": [],
   "source": []
  },
  {
   "cell_type": "code",
   "execution_count": null,
   "metadata": {},
   "outputs": [],
   "source": []
  },
  {
   "cell_type": "code",
   "execution_count": 49,
   "metadata": {},
   "outputs": [
    {
     "data": {
      "text/plain": [
       "[('A', 'B'),\n",
       " ('B', 'C'),\n",
       " ('C', 'D'),\n",
       " ('A', 'C'),\n",
       " ('B', 'D'),\n",
       " ('D', 'E'),\n",
       " ('B', 'E'),\n",
       " ('B', 'D')]"
      ]
     },
     "execution_count": 49,
     "metadata": {},
     "output_type": "execute_result"
    }
   ],
   "source": [
    "rs2 = [('A','B'),('B','C'),('C','D'),('A','C'),('D','B'),('D','E'),('E','B'),('B','D')]\n",
    "rs2RDD = sc.parallelize(rs2)\n",
    "rs2RDD = rs2RDD.map(lambda x: tuple(sorted(x)))\n",
    "rs2RDD.collect()"
   ]
  },
  {
   "cell_type": "code",
   "execution_count": 19,
   "metadata": {},
   "outputs": [
    {
     "data": {
      "text/plain": [
       "[('B', ('A', 1)),\n",
       " ('A', ('B', 0)),\n",
       " ('C', ('B', 1)),\n",
       " ('B', ('C', 0)),\n",
       " ('D', ('C', 1)),\n",
       " ('C', ('D', 0)),\n",
       " ('C', ('A', 1)),\n",
       " ('A', ('C', 0)),\n",
       " ('D', ('B', 1)),\n",
       " ('B', ('D', 0)),\n",
       " ('E', ('D', 1)),\n",
       " ('D', ('E', 0)),\n",
       " ('E', ('B', 1)),\n",
       " ('B', ('E', 0)),\n",
       " ('D', ('B', 1)),\n",
       " ('B', ('D', 0))]"
      ]
     },
     "execution_count": 19,
     "metadata": {},
     "output_type": "execute_result"
    }
   ],
   "source": [
    "rs2RDD = rs2RDD.flatMap(lambda x: ((x[1], (x[0],1)), (x[0], (x[1], 0))))\n",
    "rs2RDD.collect()"
   ]
  },
  {
   "cell_type": "code",
   "execution_count": 20,
   "metadata": {},
   "outputs": [
    {
     "data": {
      "text/plain": [
       "[('B', [('A', 1), ('C', 0), ('D', 0), ('E', 0), ('D', 0)]),\n",
       " ('A', [('B', 0), ('C', 0)]),\n",
       " ('C', [('B', 1), ('D', 0), ('A', 1)]),\n",
       " ('D', [('C', 1), ('B', 1), ('E', 0), ('B', 1)]),\n",
       " ('E', [('D', 1), ('B', 1)])]"
      ]
     },
     "execution_count": 20,
     "metadata": {},
     "output_type": "execute_result"
    }
   ],
   "source": [
    "rs2RDD = rs2RDD.groupByKey()\n",
    "rs2RDD.mapValues(list).collect()"
   ]
  },
  {
   "cell_type": "code",
   "execution_count": 45,
   "metadata": {},
   "outputs": [],
   "source": [
    "def proc2(clave, valores):\n",
    "    l0 = []\n",
    "    l1 = []\n",
    "    for nodo in valores:\n",
    "        if nodo[1] == 1:\n",
    "            l0.append(nodo[0])\n",
    "        elif nodo[1] == 0:\n",
    "            l1.append(nodo[0])\n",
    "    print('l0: ',l0)\n",
    "    print('l1: ',l1)\n",
    "    join = list(product(l0, l1))\n",
    "    print('lista join: ',join)\n",
    "    res = []\n",
    "    for nodo in join:\n",
    "#        if (len(nodo[0])> 0 and len(nodo[1])>0):\n",
    "            res.append((nodo[0], clave, nodo[1]))\n",
    "    return res            "
   ]
  },
  {
   "cell_type": "code",
   "execution_count": 42,
   "metadata": {},
   "outputs": [
    {
     "name": "stdout",
     "output_type": "stream",
     "text": [
      "l0:  ['C', 'B', 'B']\n",
      "l1:  ['E']\n",
      "lista join:  [('C', 'E'), ('B', 'E'), ('B', 'E')]\n"
     ]
    },
    {
     "data": {
      "text/plain": [
       "[('C', 'D', 'E'), ('B', 'D', 'E'), ('B', 'D', 'E')]"
      ]
     },
     "execution_count": 42,
     "metadata": {},
     "output_type": "execute_result"
    }
   ],
   "source": [
    "proc2('D', [('C', 1), ('B', 1), ('E', 0), ('B', 1)])"
   ]
  },
  {
   "cell_type": "code",
   "execution_count": 23,
   "metadata": {},
   "outputs": [],
   "source": [
    "def proc(key, vals):\n",
    "    l0 = [node[0] for node in vals if node[1] == 1]\n",
    "    l1 = [node[0] for node in vals if node[1] == 0]\n",
    "    join = list(itertools.product(l0, l1))\n",
    "    res = [(node[0], key, node[1]) for node in join if len(node[0])>0 and len(node[1])>0]\n",
    "    return res"
   ]
  },
  {
   "cell_type": "code",
   "execution_count": 46,
   "metadata": {},
   "outputs": [],
   "source": [
    "res3 = rs2RDD.flatMap(lambda x: proc2(x[0], x[1])).distinct()"
   ]
  },
  {
   "cell_type": "code",
   "execution_count": 47,
   "metadata": {},
   "outputs": [
    {
     "data": {
      "text/plain": [
       "[('A', 'B', 'D'),\n",
       " ('A', 'B', 'E'),\n",
       " ('B', 'D', 'E'),\n",
       " ('A', 'B', 'C'),\n",
       " ('B', 'C', 'D'),\n",
       " ('A', 'C', 'D'),\n",
       " ('C', 'D', 'E')]"
      ]
     },
     "execution_count": 47,
     "metadata": {},
     "output_type": "execute_result"
    }
   ],
   "source": [
    "res3.collect()"
   ]
  },
  {
   "cell_type": "code",
   "execution_count": 48,
   "metadata": {},
   "outputs": [
    {
     "data": {
      "text/plain": [
       "[(('A', 'D'), ('A', 'B', 'D')),\n",
       " (('D', 'A'), ('A', 'B', 'D')),\n",
       " (('A', 'E'), ('A', 'B', 'E')),\n",
       " (('E', 'A'), ('A', 'B', 'E')),\n",
       " (('B', 'E'), ('B', 'D', 'E')),\n",
       " (('E', 'B'), ('B', 'D', 'E')),\n",
       " (('A', 'C'), ('A', 'B', 'C')),\n",
       " (('C', 'A'), ('A', 'B', 'C')),\n",
       " (('B', 'D'), ('B', 'C', 'D')),\n",
       " (('D', 'B'), ('B', 'C', 'D')),\n",
       " (('A', 'D'), ('A', 'C', 'D')),\n",
       " (('D', 'A'), ('A', 'C', 'D')),\n",
       " (('C', 'E'), ('C', 'D', 'E')),\n",
       " (('E', 'C'), ('C', 'D', 'E'))]"
      ]
     },
     "execution_count": 48,
     "metadata": {},
     "output_type": "execute_result"
    }
   ],
   "source": [
    "res3 = res3.flatMap(lambda x: (((x[0], x[2]), x), ((x[2], x[0]), x)))\n",
    "res3.collect()"
   ]
  },
  {
   "cell_type": "code",
   "execution_count": 51,
   "metadata": {},
   "outputs": [
    {
     "data": {
      "text/plain": [
       "[(('A', 'B'), 1),\n",
       " (('B', 'C'), 1),\n",
       " (('C', 'D'), 1),\n",
       " (('A', 'C'), 1),\n",
       " (('B', 'D'), 1),\n",
       " (('D', 'E'), 1),\n",
       " (('B', 'E'), 1),\n",
       " (('B', 'D'), 1)]"
      ]
     },
     "execution_count": 51,
     "metadata": {},
     "output_type": "execute_result"
    }
   ],
   "source": [
    "zibel = rs2RDD.map(lambda x: (x,1))\n",
    "zibel.collect()"
   ]
  },
  {
   "cell_type": "code",
   "execution_count": 53,
   "metadata": {},
   "outputs": [
    {
     "data": {
      "text/plain": [
       "[(('A', 'C'), (('A', 'B', 'C'), 1)),\n",
       " (('B', 'E'), (('B', 'D', 'E'), 1)),\n",
       " (('B', 'D'), (('B', 'C', 'D'), 1))]"
      ]
     },
     "execution_count": 53,
     "metadata": {},
     "output_type": "execute_result"
    }
   ],
   "source": [
    "chibi = res3.join(zibel)\n",
    "chibi.distinct().collect()"
   ]
  },
  {
   "cell_type": "code",
   "execution_count": null,
   "metadata": {},
   "outputs": [],
   "source": []
  }
 ],
 "metadata": {
  "kernelspec": {
   "display_name": "Python 3",
   "language": "python",
   "name": "python3"
  },
  "language_info": {
   "codemirror_mode": {
    "name": "ipython",
    "version": 3
   },
   "file_extension": ".py",
   "mimetype": "text/x-python",
   "name": "python",
   "nbconvert_exporter": "python",
   "pygments_lexer": "ipython3",
   "version": "3.6.5"
  }
 },
 "nbformat": 4,
 "nbformat_minor": 2
}
