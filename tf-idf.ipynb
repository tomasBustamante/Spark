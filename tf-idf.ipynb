{
 "cells": [
  {
   "cell_type": "markdown",
   "metadata": {},
   "source": [
    "## TF IDF con PySpark"
   ]
  },
  {
   "cell_type": "code",
   "execution_count": 1,
   "metadata": {},
   "outputs": [
    {
     "data": {
      "text/plain": [
       "pyspark.context.SparkContext"
      ]
     },
     "execution_count": 1,
     "metadata": {},
     "output_type": "execute_result"
    }
   ],
   "source": [
    "import pyspark\n",
    "import math\n",
    "\n",
    "try: \n",
    "    type(sc)\n",
    "except NameError:\n",
    "    sc = pyspark.SparkContext('local[*]')    \n",
    "    \n",
    "type(sc)"
   ]
  },
  {
   "cell_type": "code",
   "execution_count": 83,
   "metadata": {},
   "outputs": [
    {
     "data": {
      "text/plain": [
       "[['1', 'VW VW FORD FIAT'],\n",
       " ['2', 'ALFA ROMEO LANCIA ALFA ROMEO'],\n",
       " ['3', 'FERRARI FIAT ALFA ROMEO LANCIA'],\n",
       " ['4', 'FORD FORD FIAT CHEVROLET FIAT'],\n",
       " ['5', 'CHEVROLET VW CHEVROLET VW VW'],\n",
       " ['6', 'FIAT FERRARI FERRARI']]"
      ]
     },
     "execution_count": 83,
     "metadata": {},
     "output_type": "execute_result"
    }
   ],
   "source": [
    "# Leo el CSV de textos a indexar\n",
    "textosRDD = sc.textFile('./textos.csv')\n",
    "\n",
    "# Separo por comas\n",
    "textosRDD = textosRDD.map(lambda a: a.split(','))\n",
    "textosRDD.collect()"
   ]
  },
  {
   "cell_type": "code",
   "execution_count": 63,
   "metadata": {},
   "outputs": [],
   "source": [
    "def tokenizar(x):\n",
    "    l = x[1].split()\n",
    "    for i in range(len(l)):\n",
    "        l[i] = (l[i], x[0])\n",
    "    return l"
   ]
  },
  {
   "cell_type": "code",
   "execution_count": 84,
   "metadata": {},
   "outputs": [
    {
     "data": {
      "text/plain": [
       "[('VW', '1'),\n",
       " ('VW', '1'),\n",
       " ('FORD', '1'),\n",
       " ('FIAT', '1'),\n",
       " ('ALFA', '2'),\n",
       " ('ROMEO', '2'),\n",
       " ('LANCIA', '2'),\n",
       " ('ALFA', '2'),\n",
       " ('ROMEO', '2'),\n",
       " ('FERRARI', '3'),\n",
       " ('FIAT', '3'),\n",
       " ('ALFA', '3'),\n",
       " ('ROMEO', '3'),\n",
       " ('LANCIA', '3'),\n",
       " ('FORD', '4'),\n",
       " ('FORD', '4'),\n",
       " ('FIAT', '4'),\n",
       " ('CHEVROLET', '4'),\n",
       " ('FIAT', '4'),\n",
       " ('CHEVROLET', '5'),\n",
       " ('VW', '5'),\n",
       " ('CHEVROLET', '5'),\n",
       " ('VW', '5'),\n",
       " ('VW', '5'),\n",
       " ('FIAT', '6'),\n",
       " ('FERRARI', '6'),\n",
       " ('FERRARI', '6')]"
      ]
     },
     "execution_count": 84,
     "metadata": {},
     "output_type": "execute_result"
    }
   ],
   "source": [
    "textosRDD = textosRDD.flatMap(lambda x: tokenizar(x))\n",
    "textosRDD.collect()"
   ]
  },
  {
   "cell_type": "code",
   "execution_count": 85,
   "metadata": {},
   "outputs": [
    {
     "data": {
      "text/plain": [
       "[(('VW', '1'), 1),\n",
       " (('VW', '1'), 1),\n",
       " (('FORD', '1'), 1),\n",
       " (('FIAT', '1'), 1),\n",
       " (('ALFA', '2'), 1),\n",
       " (('ROMEO', '2'), 1),\n",
       " (('LANCIA', '2'), 1),\n",
       " (('ALFA', '2'), 1),\n",
       " (('ROMEO', '2'), 1),\n",
       " (('FERRARI', '3'), 1),\n",
       " (('FIAT', '3'), 1),\n",
       " (('ALFA', '3'), 1),\n",
       " (('ROMEO', '3'), 1),\n",
       " (('LANCIA', '3'), 1),\n",
       " (('FORD', '4'), 1),\n",
       " (('FORD', '4'), 1),\n",
       " (('FIAT', '4'), 1),\n",
       " (('CHEVROLET', '4'), 1),\n",
       " (('FIAT', '4'), 1),\n",
       " (('CHEVROLET', '5'), 1),\n",
       " (('VW', '5'), 1),\n",
       " (('CHEVROLET', '5'), 1),\n",
       " (('VW', '5'), 1),\n",
       " (('VW', '5'), 1),\n",
       " (('FIAT', '6'), 1),\n",
       " (('FERRARI', '6'), 1),\n",
       " (('FERRARI', '6'), 1)]"
      ]
     },
     "execution_count": 85,
     "metadata": {},
     "output_type": "execute_result"
    }
   ],
   "source": [
    "textosRDD = textosRDD.map(lambda x: ((x[0], x[1]),1))\n",
    "textosRDD.collect()"
   ]
  },
  {
   "cell_type": "code",
   "execution_count": 86,
   "metadata": {},
   "outputs": [
    {
     "data": {
      "text/plain": [
       "[(('ALFA', '2'), 2),\n",
       " (('ROMEO', '2'), 2),\n",
       " (('FIAT', '3'), 1),\n",
       " (('ALFA', '3'), 1),\n",
       " (('ROMEO', '3'), 1),\n",
       " (('CHEVROLET', '5'), 2),\n",
       " (('VW', '5'), 3),\n",
       " (('FIAT', '6'), 1),\n",
       " (('VW', '1'), 2),\n",
       " (('FORD', '1'), 1),\n",
       " (('FIAT', '1'), 1),\n",
       " (('LANCIA', '2'), 1),\n",
       " (('FERRARI', '3'), 1),\n",
       " (('LANCIA', '3'), 1),\n",
       " (('FORD', '4'), 2),\n",
       " (('FIAT', '4'), 2),\n",
       " (('CHEVROLET', '4'), 1),\n",
       " (('FERRARI', '6'), 2)]"
      ]
     },
     "execution_count": 86,
     "metadata": {},
     "output_type": "execute_result"
    }
   ],
   "source": [
    "textosRDD = textosRDD.reduceByKey(lambda x,y: x + y)\n",
    "textosRDD.collect()"
   ]
  },
  {
   "cell_type": "code",
   "execution_count": 88,
   "metadata": {},
   "outputs": [
    {
     "data": {
      "text/plain": [
       "[('ALFA', 1),\n",
       " ('ROMEO', 1),\n",
       " ('FIAT', 1),\n",
       " ('ALFA', 1),\n",
       " ('ROMEO', 1),\n",
       " ('CHEVROLET', 1),\n",
       " ('VW', 1),\n",
       " ('FIAT', 1),\n",
       " ('VW', 1),\n",
       " ('FORD', 1),\n",
       " ('FIAT', 1),\n",
       " ('LANCIA', 1),\n",
       " ('FERRARI', 1),\n",
       " ('LANCIA', 1),\n",
       " ('FORD', 1),\n",
       " ('FIAT', 1),\n",
       " ('CHEVROLET', 1),\n",
       " ('FERRARI', 1)]"
      ]
     },
     "execution_count": 88,
     "metadata": {},
     "output_type": "execute_result"
    }
   ],
   "source": [
    "palabras = textosRDD.map(lambda x: (x[0][0],1))\n",
    "palabras.collect()"
   ]
  },
  {
   "cell_type": "code",
   "execution_count": 89,
   "metadata": {},
   "outputs": [
    {
     "data": {
      "text/plain": [
       "[('LANCIA', 2),\n",
       " ('FERRARI', 2),\n",
       " ('ALFA', 2),\n",
       " ('ROMEO', 2),\n",
       " ('FIAT', 4),\n",
       " ('CHEVROLET', 2),\n",
       " ('VW', 2),\n",
       " ('FORD', 2)]"
      ]
     },
     "execution_count": 89,
     "metadata": {},
     "output_type": "execute_result"
    }
   ],
   "source": [
    "palabras = palabras.reduceByKey(lambda x,y: x + y)\n",
    "palabras.collect()"
   ]
  },
  {
   "cell_type": "code",
   "execution_count": 96,
   "metadata": {},
   "outputs": [
    {
     "data": {
      "text/plain": [
       "[('LANCIA', 0.5440680443502757),\n",
       " ('FERRARI', 0.5440680443502757),\n",
       " ('ALFA', 0.5440680443502757),\n",
       " ('ROMEO', 0.5440680443502757),\n",
       " ('FIAT', 0.24303804868629444),\n",
       " ('CHEVROLET', 0.5440680443502757),\n",
       " ('VW', 0.5440680443502757),\n",
       " ('FORD', 0.5440680443502757)]"
      ]
     },
     "execution_count": 96,
     "metadata": {},
     "output_type": "execute_result"
    }
   ],
   "source": [
    "idf = palabras.map(lambda x: (x[0],math.log10(7/x[1])))\n",
    "idf.collect()"
   ]
  },
  {
   "cell_type": "code",
   "execution_count": 80,
   "metadata": {},
   "outputs": [
    {
     "data": {
      "text/plain": [
       "[('2', ('ALFA', 2)),\n",
       " ('2', ('ROMEO', 2)),\n",
       " ('3', ('FIAT', 1)),\n",
       " ('3', ('ALFA', 1)),\n",
       " ('3', ('ROMEO', 1)),\n",
       " ('5', ('CHEVROLET', 2)),\n",
       " ('5', ('VW', 3)),\n",
       " ('6', ('FIAT', 1)),\n",
       " ('1', ('VW', 2)),\n",
       " ('1', ('FORD', 1)),\n",
       " ('1', ('FIAT', 1)),\n",
       " ('2', ('LANCIA', 1)),\n",
       " ('3', ('FERRARI', 1)),\n",
       " ('3', ('LANCIA', 1)),\n",
       " ('4', ('FORD', 2)),\n",
       " ('4', ('FIAT', 2)),\n",
       " ('4', ('CHEVROLET', 1)),\n",
       " ('6', ('FERRARI', 2))]"
      ]
     },
     "execution_count": 80,
     "metadata": {},
     "output_type": "execute_result"
    }
   ],
   "source": [
    "textosRDD = textosRDD.map(lambda x: (x[0][1],(x[0][0],x[1])))\n",
    "textosRDD.collect()"
   ]
  },
  {
   "cell_type": "code",
   "execution_count": 81,
   "metadata": {},
   "outputs": [
    {
     "data": {
      "text/plain": [
       "[('1', [('VW', 2), ('FORD', 1), ('FIAT', 1)]),\n",
       " ('4', [('FORD', 2), ('FIAT', 2), ('CHEVROLET', 1)]),\n",
       " ('2', [('ALFA', 2), ('ROMEO', 2), ('LANCIA', 1)]),\n",
       " ('3',\n",
       "  [('FIAT', 1), ('ALFA', 1), ('ROMEO', 1), ('FERRARI', 1), ('LANCIA', 1)]),\n",
       " ('5', [('CHEVROLET', 2), ('VW', 3)]),\n",
       " ('6', [('FIAT', 1), ('FERRARI', 2)])]"
      ]
     },
     "execution_count": 81,
     "metadata": {},
     "output_type": "execute_result"
    }
   ],
   "source": [
    "textosRDD = textosRDD.groupByKey().mapValues(list)\n",
    "textosRDD.collect()"
   ]
  },
  {
   "cell_type": "code",
   "execution_count": 72,
   "metadata": {},
   "outputs": [],
   "source": [
    "def idf(list_doc_freq):\n",
    "    return math.log(6/(len(list_doc_freq)+1))"
   ]
  },
  {
   "cell_type": "code",
   "execution_count": 82,
   "metadata": {},
   "outputs": [
    {
     "data": {
      "text/plain": [
       "[('1', 0.4054651081081644, [('VW', 2), ('FORD', 1), ('FIAT', 1)]),\n",
       " ('4', 0.4054651081081644, [('FORD', 2), ('FIAT', 2), ('CHEVROLET', 1)]),\n",
       " ('2', 0.4054651081081644, [('ALFA', 2), ('ROMEO', 2), ('LANCIA', 1)]),\n",
       " ('3',\n",
       "  0.0,\n",
       "  [('FIAT', 1), ('ALFA', 1), ('ROMEO', 1), ('FERRARI', 1), ('LANCIA', 1)]),\n",
       " ('5', 0.6931471805599453, [('CHEVROLET', 2), ('VW', 3)]),\n",
       " ('6', 0.6931471805599453, [('FIAT', 1), ('FERRARI', 2)])]"
      ]
     },
     "execution_count": 82,
     "metadata": {},
     "output_type": "execute_result"
    }
   ],
   "source": [
    "textosRDD.map(lambda x: (x[0], idf(x[1]), x[1])).collect()"
   ]
  }
 ],
 "metadata": {
  "kernelspec": {
   "display_name": "Python 3",
   "language": "python",
   "name": "python3"
  },
  "language_info": {
   "codemirror_mode": {
    "name": "ipython",
    "version": 3
   },
   "file_extension": ".py",
   "mimetype": "text/x-python",
   "name": "python",
   "nbconvert_exporter": "python",
   "pygments_lexer": "ipython3",
   "version": "3.6.5"
  }
 },
 "nbformat": 4,
 "nbformat_minor": 2
}
