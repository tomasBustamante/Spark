{
 "cells": [
  {
   "cell_type": "code",
   "execution_count": null,
   "metadata": {},
   "outputs": [],
   "source": []
  },
  {
   "cell_type": "code",
   "execution_count": 1,
   "metadata": {},
   "outputs": [
    {
     "data": {
      "text/plain": [
       "pyspark.context.SparkContext"
      ]
     },
     "execution_count": 1,
     "metadata": {},
     "output_type": "execute_result"
    }
   ],
   "source": [
    "import pyspark\n",
    "import math\n",
    "\n",
    "try: \n",
    "    type(sc)\n",
    "except NameError:\n",
    "    sc = pyspark.SparkContext('local[*]')    \n",
    "    \n",
    "type(sc)"
   ]
  },
  {
   "cell_type": "code",
   "execution_count": 49,
   "metadata": {},
   "outputs": [],
   "source": [
    "texto1 = sc.textFile('./texto1.txt')"
   ]
  },
  {
   "cell_type": "code",
   "execution_count": 50,
   "metadata": {},
   "outputs": [
    {
     "data": {
      "text/plain": [
       "['hola que tal', 'que tal todos', 'hola a todes', 'hola a todxs']"
      ]
     },
     "execution_count": 50,
     "metadata": {},
     "output_type": "execute_result"
    }
   ],
   "source": [
    "texto1.collect()"
   ]
  },
  {
   "cell_type": "code",
   "execution_count": 6,
   "metadata": {},
   "outputs": [
    {
     "data": {
      "text/plain": [
       "['hola', 'que', 'tal', 'que', 'tal', 'todos', 'hola', 'a', 'todos']"
      ]
     },
     "execution_count": 6,
     "metadata": {},
     "output_type": "execute_result"
    }
   ],
   "source": [
    "texto2 = texto1.flatMap(lambda x: x.split())\n",
    "texto2.collect()"
   ]
  },
  {
   "cell_type": "code",
   "execution_count": 7,
   "metadata": {},
   "outputs": [
    {
     "data": {
      "text/plain": [
       "[('hola', 1),\n",
       " ('que', 1),\n",
       " ('tal', 1),\n",
       " ('que', 1),\n",
       " ('tal', 1),\n",
       " ('todos', 1),\n",
       " ('hola', 1),\n",
       " ('a', 1),\n",
       " ('todos', 1)]"
      ]
     },
     "execution_count": 7,
     "metadata": {},
     "output_type": "execute_result"
    }
   ],
   "source": [
    "texto3 = texto2.map(lambda x: (x,1))\n",
    "texto3.collect()"
   ]
  },
  {
   "cell_type": "code",
   "execution_count": 10,
   "metadata": {},
   "outputs": [
    {
     "data": {
      "text/plain": [
       "[('hola', 2), ('que', 2), ('todos', 2), ('tal', 2), ('a', 1)]"
      ]
     },
     "execution_count": 10,
     "metadata": {},
     "output_type": "execute_result"
    }
   ],
   "source": [
    "texto4 = texto3.reduceByKey(lambda x,y: x + y)\n",
    "texto4.collect()"
   ]
  },
  {
   "cell_type": "code",
   "execution_count": null,
   "metadata": {},
   "outputs": [],
   "source": []
  },
  {
   "cell_type": "code",
   "execution_count": 23,
   "metadata": {},
   "outputs": [],
   "source": [
    "def ngramas(linea, n):\n",
    "    linea = linea.lower()\n",
    "    ngramas = []\n",
    "    for i in range(0, len(linea) - n - 1):\n",
    "        ngramas.append(linea[i:i+n])\n",
    "    return ngramas"
   ]
  },
  {
   "cell_type": "code",
   "execution_count": 24,
   "metadata": {},
   "outputs": [
    {
     "data": {
      "text/plain": [
       "['hol', 'ola', 'la ', 'a q', ' qu', 'que', 'ue ', 'e t']"
      ]
     },
     "execution_count": 24,
     "metadata": {},
     "output_type": "execute_result"
    }
   ],
   "source": [
    "ngramas('hola que tal', 3)"
   ]
  },
  {
   "cell_type": "code",
   "execution_count": 26,
   "metadata": {},
   "outputs": [
    {
     "data": {
      "text/plain": [
       "['hol',\n",
       " 'ola',\n",
       " 'la ',\n",
       " 'a q',\n",
       " ' qu',\n",
       " 'que',\n",
       " 'ue ',\n",
       " 'e t',\n",
       " 'que',\n",
       " 'ue ',\n",
       " 'e t',\n",
       " ' ta',\n",
       " 'tal',\n",
       " 'al ',\n",
       " 'l t',\n",
       " ' to',\n",
       " 'tod',\n",
       " 'hol',\n",
       " 'ola',\n",
       " 'la ',\n",
       " 'a a',\n",
       " ' a ',\n",
       " 'a t',\n",
       " ' to',\n",
       " 'tod']"
      ]
     },
     "execution_count": 26,
     "metadata": {},
     "output_type": "execute_result"
    }
   ],
   "source": [
    "texto5 = texto1.flatMap(lambda x: ngramas(x,3))\n",
    "texto5.collect()"
   ]
  },
  {
   "cell_type": "code",
   "execution_count": 27,
   "metadata": {},
   "outputs": [
    {
     "data": {
      "text/plain": [
       "[('hol', 2),\n",
       " ('la ', 2),\n",
       " ('que', 2),\n",
       " ('ue ', 2),\n",
       " ('e t', 2),\n",
       " (' ta', 1),\n",
       " ('l t', 1),\n",
       " ('a a', 1),\n",
       " (' a ', 1),\n",
       " ('a t', 1),\n",
       " ('ola', 2),\n",
       " ('a q', 1),\n",
       " (' qu', 1),\n",
       " ('tal', 1),\n",
       " ('al ', 1),\n",
       " (' to', 2),\n",
       " ('tod', 2)]"
      ]
     },
     "execution_count": 27,
     "metadata": {},
     "output_type": "execute_result"
    }
   ],
   "source": [
    "texto6 = texto5.map(lambda x: (x, 1))\\\n",
    "               .reduceByKey(lambda x,y: x + y)\n",
    "texto6.collect()"
   ]
  },
  {
   "cell_type": "code",
   "execution_count": 29,
   "metadata": {},
   "outputs": [
    {
     "data": {
      "text/plain": [
       "[('hol', 2),\n",
       " ('la ', 2),\n",
       " ('que', 2),\n",
       " ('ue ', 2),\n",
       " ('e t', 2),\n",
       " ('ola', 2),\n",
       " (' to', 2),\n",
       " ('tod', 2),\n",
       " (' ta', 1),\n",
       " ('l t', 1),\n",
       " ('a a', 1),\n",
       " (' a ', 1),\n",
       " ('a t', 1),\n",
       " ('a q', 1),\n",
       " (' qu', 1),\n",
       " ('tal', 1),\n",
       " ('al ', 1)]"
      ]
     },
     "execution_count": 29,
     "metadata": {},
     "output_type": "execute_result"
    }
   ],
   "source": [
    "texto7 = texto6.sortBy(ascending=False, keyfunc = lambda x: x[1])\n",
    "texto7.collect()"
   ]
  },
  {
   "cell_type": "code",
   "execution_count": 17,
   "metadata": {},
   "outputs": [
    {
     "data": {
      "text/plain": [
       "25"
      ]
     },
     "execution_count": 17,
     "metadata": {},
     "output_type": "execute_result"
    }
   ],
   "source": [
    "total = texto7.map(lambda x: x[1])\\\n",
    "              .reduce(lambda x,y: x + y)\n",
    "total"
   ]
  },
  {
   "cell_type": "code",
   "execution_count": 22,
   "metadata": {},
   "outputs": [
    {
     "data": {
      "text/plain": [
       "[('hol', 0.08),\n",
       " ('la ', 0.08),\n",
       " ('que', 0.08),\n",
       " ('ue ', 0.08),\n",
       " ('e t', 0.08),\n",
       " ('ola', 0.08),\n",
       " (' to', 0.08),\n",
       " ('tod', 0.08),\n",
       " (' ta', 0.04),\n",
       " ('l t', 0.04),\n",
       " ('a a', 0.04),\n",
       " (' a ', 0.04),\n",
       " ('a t', 0.04),\n",
       " ('a q', 0.04),\n",
       " (' qu', 0.04),\n",
       " ('tal', 0.04),\n",
       " ('al ', 0.04)]"
      ]
     },
     "execution_count": 22,
     "metadata": {},
     "output_type": "execute_result"
    }
   ],
   "source": [
    "result = texto7.map(lambda x: (x[0], x[1]/total))\n",
    "result.collect()"
   ]
  },
  {
   "cell_type": "code",
   "execution_count": null,
   "metadata": {},
   "outputs": [],
   "source": []
  },
  {
   "cell_type": "code",
   "execution_count": 42,
   "metadata": {},
   "outputs": [],
   "source": [
    "def ngramas_contexto(linea, n=3, contexto=1):\n",
    "    linea = linea.lower()\n",
    "    ngramas = []\n",
    "    for i in range(0, len(linea) - n - 1):\n",
    "        ngramas.append((linea[i:i+n],linea[i+n:i+n+contexto]))\n",
    "    return ngramas"
   ]
  },
  {
   "cell_type": "code",
   "execution_count": 37,
   "metadata": {},
   "outputs": [
    {
     "data": {
      "text/plain": [
       "[('hol', 'a'),\n",
       " ('ola', ' '),\n",
       " ('la ', 'q'),\n",
       " ('a q', 'u'),\n",
       " (' qu', 'e'),\n",
       " ('que', ' '),\n",
       " ('ue ', 't'),\n",
       " ('e t', 'a')]"
      ]
     },
     "execution_count": 37,
     "metadata": {},
     "output_type": "execute_result"
    }
   ],
   "source": [
    "ngramas_contexto('hola que tal', 3, 1)"
   ]
  },
  {
   "cell_type": "code",
   "execution_count": 51,
   "metadata": {},
   "outputs": [
    {
     "data": {
      "text/plain": [
       "['hola que tal', 'que tal todos', 'hola a todes', 'hola a todxs']"
      ]
     },
     "execution_count": 51,
     "metadata": {},
     "output_type": "execute_result"
    }
   ],
   "source": [
    "texto1.collect()"
   ]
  },
  {
   "cell_type": "code",
   "execution_count": 52,
   "metadata": {},
   "outputs": [
    {
     "data": {
      "text/plain": [
       "[('hol', 'a'),\n",
       " ('ola', ' '),\n",
       " ('la ', 'q'),\n",
       " ('a q', 'u'),\n",
       " (' qu', 'e'),\n",
       " ('que', ' '),\n",
       " ('ue ', 't'),\n",
       " ('e t', 'a'),\n",
       " ('que', ' '),\n",
       " ('ue ', 't'),\n",
       " ('e t', 'a'),\n",
       " (' ta', 'l'),\n",
       " ('tal', ' '),\n",
       " ('al ', 't'),\n",
       " ('l t', 'o'),\n",
       " (' to', 'd'),\n",
       " ('tod', 'o'),\n",
       " ('hol', 'a'),\n",
       " ('ola', ' '),\n",
       " ('la ', 'a'),\n",
       " ('a a', ' '),\n",
       " (' a ', 't'),\n",
       " ('a t', 'o'),\n",
       " (' to', 'd'),\n",
       " ('tod', 'e'),\n",
       " ('hol', 'a'),\n",
       " ('ola', ' '),\n",
       " ('la ', 'a'),\n",
       " ('a a', ' '),\n",
       " (' a ', 't'),\n",
       " ('a t', 'o'),\n",
       " (' to', 'd'),\n",
       " ('tod', 'x')]"
      ]
     },
     "execution_count": 52,
     "metadata": {},
     "output_type": "execute_result"
    }
   ],
   "source": [
    "contexto = texto1.flatMap(lambda x: ngramas_contexto(x))\n",
    "contexto.collect()"
   ]
  },
  {
   "cell_type": "code",
   "execution_count": 53,
   "metadata": {},
   "outputs": [
    {
     "data": {
      "text/plain": [
       "[(('ola', ' '), 3),\n",
       " (('a q', 'u'), 1),\n",
       " ((' qu', 'e'), 1),\n",
       " ((' ta', 'l'), 1),\n",
       " (('tal', ' '), 1),\n",
       " (('al ', 't'), 1),\n",
       " (('tod', 'o'), 1),\n",
       " (('tod', 'e'), 1),\n",
       " (('tod', 'x'), 1),\n",
       " (('hol', 'a'), 3),\n",
       " (('la ', 'q'), 1),\n",
       " (('que', ' '), 2),\n",
       " (('ue ', 't'), 2),\n",
       " (('e t', 'a'), 2),\n",
       " (('l t', 'o'), 1),\n",
       " ((' to', 'd'), 3),\n",
       " (('la ', 'a'), 2),\n",
       " (('a a', ' '), 2),\n",
       " ((' a ', 't'), 2),\n",
       " (('a t', 'o'), 2)]"
      ]
     },
     "execution_count": 53,
     "metadata": {},
     "output_type": "execute_result"
    }
   ],
   "source": [
    "contexto = contexto.map(lambda x: (x, 1))\\\n",
    "                   .reduceByKey(lambda x,y: x + y)\n",
    "contexto.collect()"
   ]
  },
  {
   "cell_type": "code",
   "execution_count": 72,
   "metadata": {},
   "outputs": [
    {
     "data": {
      "text/plain": [
       "[(' ta', [('l', 1)]),\n",
       " ('hol', [('a', 3)]),\n",
       " ('la ', [('q', 1), ('a', 2)]),\n",
       " ('que', [(' ', 2)]),\n",
       " ('ue ', [('t', 2)]),\n",
       " ('e t', [('a', 2)]),\n",
       " ('l t', [('o', 1)]),\n",
       " ('a a', [(' ', 2)]),\n",
       " (' a ', [('t', 2)]),\n",
       " ('a t', [('o', 2)]),\n",
       " ('ola', [(' ', 3)]),\n",
       " ('a q', [('u', 1)]),\n",
       " (' qu', [('e', 1)]),\n",
       " ('tal', [(' ', 1)]),\n",
       " ('al ', [('t', 1)]),\n",
       " ('tod', [('o', 1), ('e', 1), ('x', 1)]),\n",
       " (' to', [('d', 3)])]"
      ]
     },
     "execution_count": 72,
     "metadata": {},
     "output_type": "execute_result"
    }
   ],
   "source": [
    "c = contexto.map(lambda x: (x[0][0],(x[0][1],x[1]))).groupByKey().mapValues(list)\n",
    "c.collect()"
   ]
  },
  {
   "cell_type": "code",
   "execution_count": 69,
   "metadata": {},
   "outputs": [],
   "source": [
    "def suma(lista):\n",
    "    res = 0\n",
    "    for i in range(0,len(lista)):\n",
    "        res += lista[i][1]\n",
    "    return res"
   ]
  },
  {
   "cell_type": "code",
   "execution_count": 71,
   "metadata": {},
   "outputs": [
    {
     "data": {
      "text/plain": [
       "7"
      ]
     },
     "execution_count": 71,
     "metadata": {},
     "output_type": "execute_result"
    }
   ],
   "source": [
    "suma([('o', 5), ('e', 1), ('x', 1)])"
   ]
  },
  {
   "cell_type": "code",
   "execution_count": 74,
   "metadata": {},
   "outputs": [
    {
     "data": {
      "text/plain": [
       "[(' ta', [('l', 1)], 1),\n",
       " ('hol', [('a', 3)], 3),\n",
       " ('la ', [('q', 1), ('a', 2)], 3),\n",
       " ('que', [(' ', 2)], 2),\n",
       " ('ue ', [('t', 2)], 2),\n",
       " ('e t', [('a', 2)], 2),\n",
       " ('l t', [('o', 1)], 1),\n",
       " ('a a', [(' ', 2)], 2),\n",
       " (' a ', [('t', 2)], 2),\n",
       " ('a t', [('o', 2)], 2),\n",
       " ('ola', [(' ', 3)], 3),\n",
       " ('a q', [('u', 1)], 1),\n",
       " (' qu', [('e', 1)], 1),\n",
       " ('tal', [(' ', 1)], 1),\n",
       " ('al ', [('t', 1)], 1),\n",
       " ('tod', [('o', 1), ('e', 1), ('x', 1)], 3),\n",
       " (' to', [('d', 3)], 3)]"
      ]
     },
     "execution_count": 74,
     "metadata": {},
     "output_type": "execute_result"
    }
   ],
   "source": [
    "d = c.map(lambda x: (x[0], x[1], suma(x[1])))\n",
    "d.collect()"
   ]
  },
  {
   "cell_type": "code",
   "execution_count": 78,
   "metadata": {},
   "outputs": [],
   "source": [
    "def proba(lista, total):\n",
    "    l = []\n",
    "    for i in range(0, len(lista)):\n",
    "        l.append((lista[i][0],lista[i][1] / total))\n",
    "    return l"
   ]
  },
  {
   "cell_type": "code",
   "execution_count": 79,
   "metadata": {},
   "outputs": [
    {
     "data": {
      "text/plain": [
       "[('o', 0.7142857142857143),\n",
       " ('e', 0.14285714285714285),\n",
       " ('x', 0.14285714285714285)]"
      ]
     },
     "execution_count": 79,
     "metadata": {},
     "output_type": "execute_result"
    }
   ],
   "source": [
    "proba([('o', 5), ('e', 1), ('x', 1)], 7)"
   ]
  },
  {
   "cell_type": "code",
   "execution_count": 83,
   "metadata": {},
   "outputs": [
    {
     "data": {
      "text/plain": [
       "[(' ta', [('l', 1.0)]),\n",
       " ('hol', [('a', 1.0)]),\n",
       " ('la ', [('q', 0.3333333333333333), ('a', 0.6666666666666666)]),\n",
       " ('que', [(' ', 1.0)]),\n",
       " ('ue ', [('t', 1.0)]),\n",
       " ('e t', [('a', 1.0)]),\n",
       " ('l t', [('o', 1.0)]),\n",
       " ('a a', [(' ', 1.0)]),\n",
       " (' a ', [('t', 1.0)]),\n",
       " ('a t', [('o', 1.0)]),\n",
       " ('ola', [(' ', 1.0)]),\n",
       " ('a q', [('u', 1.0)]),\n",
       " (' qu', [('e', 1.0)]),\n",
       " ('tal', [(' ', 1.0)]),\n",
       " ('al ', [('t', 1.0)]),\n",
       " ('tod',\n",
       "  [('o', 0.3333333333333333),\n",
       "   ('e', 0.3333333333333333),\n",
       "   ('x', 0.3333333333333333)]),\n",
       " (' to', [('d', 1.0)])]"
      ]
     },
     "execution_count": 83,
     "metadata": {},
     "output_type": "execute_result"
    }
   ],
   "source": [
    "d.map(lambda x: (x[0], proba(x[1],x[2]))).collect()"
   ]
  }
 ],
 "metadata": {
  "kernelspec": {
   "display_name": "Python 3",
   "language": "python",
   "name": "python3"
  },
  "language_info": {
   "codemirror_mode": {
    "name": "ipython",
    "version": 3
   },
   "file_extension": ".py",
   "mimetype": "text/x-python",
   "name": "python",
   "nbconvert_exporter": "python",
   "pygments_lexer": "ipython3",
   "version": "3.6.5"
  }
 },
 "nbformat": 4,
 "nbformat_minor": 2
}
