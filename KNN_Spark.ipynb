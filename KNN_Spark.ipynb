{
 "cells": [
  {
   "cell_type": "markdown",
   "metadata": {},
   "source": [
    "# KNN con PySpark\n",
    "\n",
    "Implementación del algoritmo KNN (K-Nearest Neighbours) con Apache Spark"
   ]
  },
  {
   "cell_type": "code",
   "execution_count": 1,
   "metadata": {},
   "outputs": [
    {
     "data": {
      "text/plain": [
       "pyspark.context.SparkContext"
      ]
     },
     "execution_count": 1,
     "metadata": {},
     "output_type": "execute_result"
    }
   ],
   "source": [
    "import pyspark\n",
    "import math\n",
    "\n",
    "try: \n",
    "    type(sc)\n",
    "except NameError:\n",
    "    sc = pyspark.SparkContext('local[*]')    \n",
    "    \n",
    "type(sc)"
   ]
  },
  {
   "cell_type": "code",
   "execution_count": 2,
   "metadata": {},
   "outputs": [],
   "source": [
    "datos = [(1,(1,0,2,3)),\n",
    "         (0,(3,1,2,2)),\n",
    "         (1,(0,0,-2,4)),\n",
    "         (1,(1,1,-1,1)),\n",
    "         (0,(2,-2,0,1))]\n",
    "\n",
    "rdd = sc.parallelize(datos)\n",
    "\n",
    "q = (0,0,-1,3)"
   ]
  },
  {
   "cell_type": "code",
   "execution_count": 4,
   "metadata": {},
   "outputs": [
    {
     "data": {
      "text/plain": [
       "[(1, (1, 0, 2, 3)),\n",
       " (0, (3, 1, 2, 2)),\n",
       " (1, (0, 0, -2, 4)),\n",
       " (1, (1, 1, -1, 1)),\n",
       " (0, (2, -2, 0, 1))]"
      ]
     },
     "execution_count": 4,
     "metadata": {},
     "output_type": "execute_result"
    }
   ],
   "source": [
    "rdd.collect()"
   ]
  },
  {
   "cell_type": "code",
   "execution_count": 3,
   "metadata": {},
   "outputs": [],
   "source": [
    "# Distancia euclídea\n",
    "def euclid(x,y):\n",
    "    suma = 0\n",
    "    for x,y in zip(x,y):\n",
    "        suma += (x-y)**2\n",
    "    return math.sqrt(suma)"
   ]
  },
  {
   "cell_type": "code",
   "execution_count": 5,
   "metadata": {},
   "outputs": [
    {
     "data": {
      "text/plain": [
       "3.1622776601683795"
      ]
     },
     "execution_count": 5,
     "metadata": {},
     "output_type": "execute_result"
    }
   ],
   "source": [
    "euclid((1, 0, 2, 3),(0,0,-1,3))"
   ]
  },
  {
   "cell_type": "code",
   "execution_count": 6,
   "metadata": {},
   "outputs": [
    {
     "data": {
      "text/plain": [
       "PythonRDD[1] at RDD at PythonRDD.scala:48"
      ]
     },
     "execution_count": 6,
     "metadata": {},
     "output_type": "execute_result"
    }
   ],
   "source": [
    "nn = rdd.map(lambda x: (euclid(x[1],q), (x[0],x[1])))#\\\n",
    "nn"
   ]
  },
  {
   "cell_type": "code",
   "execution_count": 7,
   "metadata": {},
   "outputs": [
    {
     "data": {
      "text/plain": [
       "[(3.1622776601683795, (1, (1, 0, 2, 3))),\n",
       " (4.47213595499958, (0, (3, 1, 2, 2))),\n",
       " (1.4142135623730951, (1, (0, 0, -2, 4))),\n",
       " (2.449489742783178, (1, (1, 1, -1, 1))),\n",
       " (3.605551275463989, (0, (2, -2, 0, 1)))]"
      ]
     },
     "execution_count": 7,
     "metadata": {},
     "output_type": "execute_result"
    }
   ],
   "source": [
    "nn.collect()"
   ]
  },
  {
   "cell_type": "code",
   "execution_count": 10,
   "metadata": {},
   "outputs": [
    {
     "data": {
      "text/plain": [
       "(1.4142135623730951, (1, (0, 0, -2, 4)))"
      ]
     },
     "execution_count": 10,
     "metadata": {},
     "output_type": "execute_result"
    }
   ],
   "source": [
    "nn.reduce(lambda x,y: x if x<y else y)"
   ]
  },
  {
   "cell_type": "code",
   "execution_count": 11,
   "metadata": {},
   "outputs": [
    {
     "data": {
      "text/plain": [
       "[(1.4142135623730951, (1, (0, 0, -2, 4))),\n",
       " (2.449489742783178, (1, (1, 1, -1, 1))),\n",
       " (3.1622776601683795, (1, (1, 0, 2, 3)))]"
      ]
     },
     "execution_count": 11,
     "metadata": {},
     "output_type": "execute_result"
    }
   ],
   "source": [
    "nn.sortByKey().take(3)"
   ]
  }
 ],
 "metadata": {
  "kernelspec": {
   "display_name": "Python 3",
   "language": "python",
   "name": "python3"
  },
  "language_info": {
   "codemirror_mode": {
    "name": "ipython",
    "version": 3
   },
   "file_extension": ".py",
   "mimetype": "text/x-python",
   "name": "python",
   "nbconvert_exporter": "python",
   "pygments_lexer": "ipython3",
   "version": "3.6.5"
  }
 },
 "nbformat": 4,
 "nbformat_minor": 2
}
